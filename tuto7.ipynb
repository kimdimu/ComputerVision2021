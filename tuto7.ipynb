{
 "cells": [
  {
   "cell_type": "markdown",
   "id": "6221fd16-0521-45d3-8782-67b81a46c1d8",
   "metadata": {},
   "source": [
    "# Generating Lists using “List Comprehensions”\n"
   ]
  },
  {
   "cell_type": "code",
   "execution_count": 1,
   "id": "3c5be730-a24e-4b97-a1c3-37798cafd206",
   "metadata": {},
   "outputs": [
    {
     "data": {
      "text/plain": [
       "[6, 12, 4, 14]"
      ]
     },
     "execution_count": 1,
     "metadata": {},
     "output_type": "execute_result"
    }
   ],
   "source": [
    "li = [3, 6, 2, 7]\n",
    "[elem*2 for elem in li]"
   ]
  },
  {
   "cell_type": "code",
   "execution_count": 3,
   "id": "fe914210-460d-4d91-919a-856213831785",
   "metadata": {},
   "outputs": [
    {
     "data": {
      "text/plain": [
       "[3, 6, 21]"
      ]
     },
     "execution_count": 3,
     "metadata": {},
     "output_type": "execute_result"
    }
   ],
   "source": [
    "li = [('a', 1), ('b', 2), ('c', 7)]\n",
    "[ n * 3 for (x, n) in li]"
   ]
  },
  {
   "cell_type": "code",
   "execution_count": 4,
   "id": "15e08889-fb71-4271-a227-194715e1e5a9",
   "metadata": {},
   "outputs": [
    {
     "data": {
      "text/plain": [
       "[12, 14, 18]"
      ]
     },
     "execution_count": 4,
     "metadata": {},
     "output_type": "execute_result"
    }
   ],
   "source": [
    "li = [3, 6, 2, 7, 1, 9]\n",
    "[elem * 2 for elem in li if elem > 4]"
   ]
  },
  {
   "cell_type": "code",
   "execution_count": 5,
   "id": "5994a3a5-90fe-413f-8008-14b68145718e",
   "metadata": {},
   "outputs": [
    {
     "data": {
      "text/plain": [
       "[8, 6, 10, 4]"
      ]
     },
     "execution_count": 5,
     "metadata": {},
     "output_type": "execute_result"
    }
   ],
   "source": [
    "li = [3, 2, 4, 1]\n",
    "[elem*2 for elem in [item+1 for item in li] ]"
   ]
  },
  {
   "cell_type": "code",
   "execution_count": null,
   "id": "4882caf0-f75b-404a-b1be-f5c53e9f7675",
   "metadata": {},
   "outputs": [],
   "source": []
  }
 ],
 "metadata": {
  "kernelspec": {
   "display_name": "Python 3",
   "language": "python",
   "name": "python3"
  },
  "language_info": {
   "codemirror_mode": {
    "name": "ipython",
    "version": 3
   },
   "file_extension": ".py",
   "mimetype": "text/x-python",
   "name": "python",
   "nbconvert_exporter": "python",
   "pygments_lexer": "ipython3",
   "version": "3.8.8"
  }
 },
 "nbformat": 4,
 "nbformat_minor": 5
}
