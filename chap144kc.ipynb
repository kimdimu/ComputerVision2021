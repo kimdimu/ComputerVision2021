{
 "cells": [
  {
   "cell_type": "markdown",
   "metadata": {},
   "source": [
    "# 1.4.4 Smoothing Images"
   ]
  },
  {
   "cell_type": "markdown",
   "metadata": {},
   "source": [
    "## Kernel Convolution"
   ]
  },
  {
   "cell_type": "code",
   "execution_count": 18,
   "metadata": {},
   "outputs": [],
   "source": [
    "import cv2\n",
    "import numpy as np\n",
    "from matplotlib import pyplot as plt"
   ]
  },
  {
   "cell_type": "code",
   "execution_count": 19,
   "metadata": {},
   "outputs": [],
   "source": [
    "l=1\n",
    "kernel = np.array([[0,-1,0],[-1,4,-1],[0,-1,0]],np.float32)"
   ]
  },
  {
   "cell_type": "code",
   "execution_count": 20,
   "metadata": {},
   "outputs": [
    {
     "data": {
      "text/plain": [
       "array([[ 0., -1.,  0.],\n",
       "       [-1.,  4., -1.],\n",
       "       [ 0., -1.,  0.]], dtype=float32)"
      ]
     },
     "execution_count": 20,
     "metadata": {},
     "output_type": "execute_result"
    }
   ],
   "source": [
    "kernel"
   ]
  },
  {
   "cell_type": "code",
   "execution_count": 21,
   "metadata": {},
   "outputs": [],
   "source": [
    "img = np.random.randint(10, size=(12,12))\n",
    "#img = np.ones((10,10),np.float32)"
   ]
  },
  {
   "cell_type": "code",
   "execution_count": 22,
   "metadata": {},
   "outputs": [
    {
     "data": {
      "text/plain": [
       "array([[8, 6, 9, 9, 1, 6, 7, 3, 9, 9, 4, 3],\n",
       "       [1, 2, 2, 4, 9, 4, 7, 6, 2, 7, 8, 2],\n",
       "       [2, 8, 1, 5, 0, 2, 2, 1, 1, 5, 1, 1],\n",
       "       [7, 0, 0, 7, 5, 6, 9, 1, 2, 4, 9, 9],\n",
       "       [7, 0, 2, 5, 6, 3, 5, 6, 3, 0, 7, 7],\n",
       "       [7, 4, 5, 6, 7, 3, 6, 5, 7, 9, 1, 8],\n",
       "       [6, 9, 8, 2, 3, 0, 3, 7, 9, 1, 3, 8],\n",
       "       [0, 4, 7, 4, 1, 0, 7, 4, 3, 7, 3, 1],\n",
       "       [1, 7, 9, 5, 9, 5, 5, 2, 0, 0, 3, 5],\n",
       "       [6, 9, 6, 6, 8, 9, 5, 7, 5, 0, 8, 4],\n",
       "       [1, 4, 3, 9, 9, 0, 2, 1, 6, 6, 0, 1],\n",
       "       [5, 9, 9, 9, 1, 0, 3, 6, 2, 4, 6, 1]])"
      ]
     },
     "execution_count": 22,
     "metadata": {},
     "output_type": "execute_result"
    }
   ],
   "source": [
    "img"
   ]
  },
  {
   "cell_type": "code",
   "execution_count": 23,
   "metadata": {},
   "outputs": [],
   "source": [
    "h,w=img.shape"
   ]
  },
  {
   "cell_type": "code",
   "execution_count": 24,
   "metadata": {},
   "outputs": [
    {
     "name": "stdout",
     "output_type": "stream",
     "text": [
      "12 12\n"
     ]
    }
   ],
   "source": [
    "print(h,w)"
   ]
  },
  {
   "cell_type": "code",
   "execution_count": 25,
   "metadata": {},
   "outputs": [],
   "source": [
    "#[*range(-2,3)]"
   ]
  },
  {
   "cell_type": "code",
   "execution_count": 26,
   "metadata": {},
   "outputs": [
    {
     "name": "stderr",
     "output_type": "stream",
     "text": [
      "<ipython-input-26-6137fcb8b1c2>:1: DeprecationWarning: `np.int` is a deprecated alias for the builtin `int`. To silence this warning, use `int` by itself. Doing this will not modify any behavior and is safe. When replacing `np.int`, you may wish to use e.g. `np.int64` or `np.int32` to specify the precision. If you wish to review your current use, check the release note link for additional information.\n",
      "Deprecated in NumPy 1.20; for more details and guidance: https://numpy.org/devdocs/release/1.20.0-notes.html#deprecations\n",
      "  dst = np.zeros((h,w),np.int)\n"
     ]
    }
   ],
   "source": [
    "dst = np.zeros((h,w),np.int)"
   ]
  },
  {
   "cell_type": "code",
   "execution_count": 27,
   "metadata": {},
   "outputs": [],
   "source": [
    "for i in range(l,h-l):\n",
    "    for j in range(l,w-l):\n",
    "        t=0\n",
    "        for p in range(-l,l+1):\n",
    "            for q in range(-l,l+1):\n",
    "                t += kernel[p+l,q+l]*img[i+p,j+q]\n",
    "        dst[i,j]=t        "
   ]
  },
  {
   "cell_type": "code",
   "execution_count": 28,
   "metadata": {},
   "outputs": [
    {
     "data": {
      "text/plain": [
       "array([[8, 6, 9, 9, 1, 6, 7, 3, 9, 9, 4, 3],\n",
       "       [1, 2, 2, 4, 9, 4, 7, 6, 2, 7, 8, 2],\n",
       "       [2, 8, 1, 5, 0, 2, 2, 1, 1, 5, 1, 1],\n",
       "       [7, 0, 0, 7, 5, 6, 9, 1, 2, 4, 9, 9],\n",
       "       [7, 0, 2, 5, 6, 3, 5, 6, 3, 0, 7, 7],\n",
       "       [7, 4, 5, 6, 7, 3, 6, 5, 7, 9, 1, 8],\n",
       "       [6, 9, 8, 2, 3, 0, 3, 7, 9, 1, 3, 8],\n",
       "       [0, 4, 7, 4, 1, 0, 7, 4, 3, 7, 3, 1],\n",
       "       [1, 7, 9, 5, 9, 5, 5, 2, 0, 0, 3, 5],\n",
       "       [6, 9, 6, 6, 8, 9, 5, 7, 5, 0, 8, 4],\n",
       "       [1, 4, 3, 9, 9, 0, 2, 1, 6, 6, 0, 1],\n",
       "       [5, 9, 9, 9, 1, 0, 3, 6, 2, 4, 6, 1]])"
      ]
     },
     "execution_count": 28,
     "metadata": {},
     "output_type": "execute_result"
    }
   ],
   "source": [
    "img"
   ]
  },
  {
   "cell_type": "code",
   "execution_count": 29,
   "metadata": {},
   "outputs": [
    {
     "data": {
      "text/plain": [
       "array([[  0,   0,   0,   0,   0,   0,   0,   0,   0,   0,   0,   0],\n",
       "       [  0,  -9,  -8,  -9,  27,  -8,   9,  11, -15,   4,  18,   0],\n",
       "       [  0,  27, -11,   8, -21,  -4, -11,  -6,  -6,   7, -19,   0],\n",
       "       [  0, -15, -10,  13,   1,   5,  22, -14,  -1,   0,  15,   0],\n",
       "       [  0, -13,  -2,  -1,   4,  -8,  -4,  10,  -3, -23,  11,   0],\n",
       "       [  0,  -5,   0,   5,  10,  -4,   8,  -6,   2,  27, -23,   0],\n",
       "       [  0,  14,   9, -13,   2,  -9,  -8,   7,  18, -24,  -1,   0],\n",
       "       [  0,  -7,   3,   1, -12, -13,  16,  -3,  -8,  21,  -2,   0],\n",
       "       [  0,   5,  11,  -8,  17,  -3,   1,  -8, -10, -10,  -4,   0],\n",
       "       [  0,  13,  -3,  -4,  -1,  18,  -3,  15,   7, -19,  25,   0],\n",
       "       [  0,  -6, -16,   9,  18, -20,  -1, -17,  10,  14, -21,   0],\n",
       "       [  0,   0,   0,   0,   0,   0,   0,   0,   0,   0,   0,   0]])"
      ]
     },
     "execution_count": 29,
     "metadata": {},
     "output_type": "execute_result"
    }
   ],
   "source": [
    "dst"
   ]
  },
  {
   "cell_type": "code",
   "execution_count": 35,
   "metadata": {},
   "outputs": [],
   "source": [
    "img = cv2.imread('lena.png', 0)"
   ]
  },
  {
   "cell_type": "code",
   "execution_count": 36,
   "metadata": {},
   "outputs": [],
   "source": [
    "l=1\n",
    "kernel = np.array([[0,-1,0],[-1,5,-1],[0,-1,0]],np.float32)"
   ]
  },
  {
   "cell_type": "code",
   "execution_count": 37,
   "metadata": {},
   "outputs": [],
   "source": [
    "h,w=img.shape"
   ]
  },
  {
   "cell_type": "code",
   "execution_count": 38,
   "metadata": {},
   "outputs": [],
   "source": [
    "dst = np.zeros((h-2*l,w-2*l),np.uint8)"
   ]
  },
  {
   "cell_type": "code",
   "execution_count": 39,
   "metadata": {},
   "outputs": [],
   "source": [
    "for i in range(l,h-l):\n",
    "    for j in range(l,w-l):\n",
    "        t=0\n",
    "        for p in range(-l,l+1):\n",
    "            for q in range(-l,l+1):\n",
    "                t += kernel[p+l,q+l]*img[i+p,j+q]\n",
    "        dst[i-l,j-l]=t "
   ]
  },
  {
   "cell_type": "code",
   "execution_count": 40,
   "metadata": {},
   "outputs": [],
   "source": [
    "cv2.imshow('img',img)\n",
    "cv2.imshow('dst',dst)\n",
    "cv2.waitKey(0)\n",
    "cv2.destroyAllWindows()"
   ]
  },
  {
   "cell_type": "code",
   "execution_count": null,
   "metadata": {},
   "outputs": [],
   "source": []
  },
  {
   "cell_type": "code",
   "execution_count": null,
   "metadata": {},
   "outputs": [],
   "source": []
  },
  {
   "cell_type": "code",
   "execution_count": null,
   "metadata": {},
   "outputs": [],
   "source": []
  },
  {
   "cell_type": "code",
   "execution_count": null,
   "metadata": {},
   "outputs": [],
   "source": []
  },
  {
   "cell_type": "code",
   "execution_count": null,
   "metadata": {},
   "outputs": [],
   "source": []
  },
  {
   "cell_type": "code",
   "execution_count": null,
   "metadata": {},
   "outputs": [],
   "source": []
  },
  {
   "cell_type": "code",
   "execution_count": null,
   "metadata": {},
   "outputs": [],
   "source": []
  },
  {
   "cell_type": "code",
   "execution_count": null,
   "metadata": {},
   "outputs": [],
   "source": []
  },
  {
   "cell_type": "code",
   "execution_count": null,
   "metadata": {},
   "outputs": [],
   "source": []
  },
  {
   "cell_type": "code",
   "execution_count": null,
   "metadata": {},
   "outputs": [],
   "source": []
  }
 ],
 "metadata": {
  "kernelspec": {
   "display_name": "Python 3",
   "language": "python",
   "name": "python3"
  },
  "language_info": {
   "codemirror_mode": {
    "name": "ipython",
    "version": 3
   },
   "file_extension": ".py",
   "mimetype": "text/x-python",
   "name": "python",
   "nbconvert_exporter": "python",
   "pygments_lexer": "ipython3",
   "version": "3.9.4"
  }
 },
 "nbformat": 4,
 "nbformat_minor": 4
}
