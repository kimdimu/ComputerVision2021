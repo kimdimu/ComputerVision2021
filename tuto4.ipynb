{
 "cells": [
  {
   "cell_type": "markdown",
   "id": "a1d5c970-178d-4b57-ac8e-607bb8c003ce",
   "metadata": {},
   "source": [
    "# Boolean Expressions"
   ]
  },
  {
   "cell_type": "code",
   "execution_count": null,
   "id": "50410aaa-200f-4f6d-b1ab-ec9dbfa96406",
   "metadata": {},
   "outputs": [],
   "source": [
    "#True(non-zero numbers, non-empty objects) and False(zero, None, empty containers)"
   ]
  },
  {
   "cell_type": "code",
   "execution_count": null,
   "id": "44b19e5a-b1aa-4bb7-b5ab-f93bfe081328",
   "metadata": {},
   "outputs": [],
   "source": [
    "# X == Y  (X and Y have same value)\n",
    "# X is Y  (X and Y refer to the exact same object (like Java ==))"
   ]
  },
  {
   "cell_type": "code",
   "execution_count": null,
   "id": "85027f5a-6cbf-40a3-8213-868e8962d977",
   "metadata": {},
   "outputs": [],
   "source": [
    " True if a is True and b is True: a and b\n",
    " True if a is True or b is True: a or b\n",
    " True if a is False: not a"
   ]
  },
  {
   "cell_type": "code",
   "execution_count": null,
   "id": "e8e35d3c-61e4-46c5-a23c-c20e517d105d",
   "metadata": {},
   "outputs": [],
   "source": [
    "x = true_value if condition else false_value\n",
    " lazy evaluation:\n",
    " First, condition is evaluated\n",
    " If True, true_value is evaluated and returned\n",
    " If False, false_value is evaluated and returned\n"
   ]
  }
 ],
 "metadata": {
  "kernelspec": {
   "display_name": "Python 3",
   "language": "python",
   "name": "python3"
  },
  "language_info": {
   "codemirror_mode": {
    "name": "ipython",
    "version": 3
   },
   "file_extension": ".py",
   "mimetype": "text/x-python",
   "name": "python",
   "nbconvert_exporter": "python",
   "pygments_lexer": "ipython3",
   "version": "3.8.8"
  }
 },
 "nbformat": 4,
 "nbformat_minor": 5
}
