{
 "cells": [
  {
   "cell_type": "code",
   "execution_count": 1,
   "id": "a92b86e4-d5d4-4677-ba21-0cbea70fb6a2",
   "metadata": {},
   "outputs": [],
   "source": [
    "import cv2\n",
    "import numpy as np\n",
    "from matplotlib import pyplot as plt"
   ]
  },
  {
   "cell_type": "code",
   "execution_count": 2,
   "id": "9b7d258a-1c75-4996-9f4c-58087f797c79",
   "metadata": {},
   "outputs": [],
   "source": [
    "cap = cv2.VideoCapture(0) # queryImage\n",
    "img2 = cv2.imread('near.jpg', 0) # trainImage\n",
    "\n",
    "cv2.namedWindow('image')\n",
    "\n",
    "cv2.createTrackbar('Threshold', 'image', 0,100,lambda x:None)\n",
    "\n",
    "sift = cv2.SIFT_create()\n",
    "bf = cv2.BFMatcher()\n",
    "\n",
    "while True:\n",
    "    ret, frame = cap.read()\n",
    "    gray = cv2.cvtColor(frame, cv2.COLOR_BGR2GRAY)\n",
    "    \n",
    "    threshold = cv2.getTrackbarPos('Threshold','image')/100.0\n",
    "    \n",
    "    kp1, des1 = sift.detectAndCompute(gray, None)\n",
    "    kp2, des2 = sift.detectAndCompute(img2, None)\n",
    "    \n",
    "    matches = bf.knnMatch(des1, des2,k=2)\n",
    "    \n",
    "    good=[]\n",
    "    \n",
    "    for m,n in matches:\n",
    "        if m.distance<threshold*n.distance:\n",
    "            good.append([m])\n",
    "            \n",
    "    img3 = cv2.drawMatchesKnn(gray,kp1,img2,kp2,good,None,flags=2)\n",
    "    \n",
    "    cv2.imshow(\"image\",img3)\n",
    "    \n",
    "    if(cv2.waitKey(1) & 0xFF == ord(\"q\")):\n",
    "        break\n",
    "    \n",
    "cap.release()\n",
    "cv2.waitKey(1)\n",
    "cv2.destroyAllWindows()"
   ]
  },
  {
   "cell_type": "code",
   "execution_count": 14,
   "id": "fb048f47-3947-451d-bd68-35bf0edb9431",
   "metadata": {},
   "outputs": [],
   "source": []
  },
  {
   "cell_type": "code",
   "execution_count": 15,
   "id": "7324e1ad-597f-4158-9b15-6c9f06e1a59c",
   "metadata": {},
   "outputs": [],
   "source": []
  },
  {
   "cell_type": "code",
   "execution_count": 16,
   "id": "8af93c97-ee5b-4d29-b2f6-119a3f213b09",
   "metadata": {},
   "outputs": [],
   "source": []
  },
  {
   "cell_type": "code",
   "execution_count": null,
   "id": "e6b70281-37d5-4dfb-9d84-ccebf8c2cb43",
   "metadata": {},
   "outputs": [],
   "source": []
  }
 ],
 "metadata": {
  "kernelspec": {
   "display_name": "Python 3",
   "language": "python",
   "name": "python3"
  },
  "language_info": {
   "codemirror_mode": {
    "name": "ipython",
    "version": 3
   },
   "file_extension": ".py",
   "mimetype": "text/x-python",
   "name": "python",
   "nbconvert_exporter": "python",
   "pygments_lexer": "ipython3",
   "version": "3.9.4"
  }
 },
 "nbformat": 4,
 "nbformat_minor": 5
}
