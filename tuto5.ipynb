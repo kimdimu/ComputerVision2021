{
 "cells": [
  {
   "cell_type": "markdown",
   "id": "2078675b-0c51-43ef-8b7b-3b0ba6c6afd2",
   "metadata": {},
   "source": [
    "# Control Flow"
   ]
  },
  {
   "cell_type": "code",
   "execution_count": 3,
   "id": "619fabfe-f3bb-4aa4-8e73-cfbe35c0aa55",
   "metadata": {},
   "outputs": [
    {
     "name": "stdout",
     "output_type": "stream",
     "text": [
      "X equals 3.\n",
      "This is outside the ‘if’.\n"
     ]
    }
   ],
   "source": [
    "x = 3\n",
    "if x == 3:\n",
    "    print(\"X equals 3.\")\n",
    "elif x == 2:\n",
    "    print(\"X equals 2.\")\n",
    "else:\n",
    "    print(\"X equals something else.\")\n",
    "print(\"This is outside the ‘if’.\")\n"
   ]
  },
  {
   "cell_type": "code",
   "execution_count": 4,
   "id": "853ecf28-f109-4bb8-8b37-7dfe3128ba36",
   "metadata": {},
   "outputs": [
    {
     "name": "stdout",
     "output_type": "stream",
     "text": [
      "3 still in the loop\n",
      "4 still in the loop\n"
     ]
    }
   ],
   "source": [
    "x = 3\n",
    "while x < 5:\n",
    "    print (x, \"still in the loop\")\n",
    "    x = x + 1\n",
    "x = 6\n",
    "while x < 5:\n",
    "    print(x, \"still in the loop\")"
   ]
  },
  {
   "cell_type": "code",
   "execution_count": 6,
   "id": "37530d03-dfee-46ea-b8d2-192ae234b7e3",
   "metadata": {},
   "outputs": [],
   "source": [
    "#You can use the keyword break inside a loop to leave the while loop entirely.\n",
    "#continue"
   ]
  },
  {
   "cell_type": "code",
   "execution_count": null,
   "id": "ef0863cb-3f21-4d58-8a9e-5627939caa45",
   "metadata": {},
   "outputs": [],
   "source": [
    "An assert statement will check to make sure that something is true during the course of a program. \n",
    " If the condition if false, the program stops\n",
    " (more accurately: throws an exception)\n",
    "assert(number_of_players < 5)\n"
   ]
  }
 ],
 "metadata": {
  "kernelspec": {
   "display_name": "Python 3",
   "language": "python",
   "name": "python3"
  },
  "language_info": {
   "codemirror_mode": {
    "name": "ipython",
    "version": 3
   },
   "file_extension": ".py",
   "mimetype": "text/x-python",
   "name": "python",
   "nbconvert_exporter": "python",
   "pygments_lexer": "ipython3",
   "version": "3.8.8"
  }
 },
 "nbformat": 4,
 "nbformat_minor": 5
}
