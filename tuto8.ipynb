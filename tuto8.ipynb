{
 "cells": [
  {
   "cell_type": "markdown",
   "id": "1bd3b9b8-d99c-4cb1-a15b-9eac061be734",
   "metadata": {},
   "source": [
    "# Functions in Python"
   ]
  },
  {
   "cell_type": "code",
   "execution_count": 7,
   "id": "54053fca-bce6-4aaf-9461-249dde43d87c",
   "metadata": {},
   "outputs": [],
   "source": [
    "def myfun(x):\n",
    "    return x * 3"
   ]
  },
  {
   "cell_type": "code",
   "execution_count": 9,
   "id": "940f9e7f-e693-4ce3-856f-7c7c33f25c29",
   "metadata": {},
   "outputs": [
    {
     "data": {
      "text/plain": [
       "9"
      ]
     },
     "execution_count": 9,
     "metadata": {},
     "output_type": "execute_result"
    }
   ],
   "source": [
    "myfun(3)"
   ]
  },
  {
   "cell_type": "code",
   "execution_count": 10,
   "id": "2614216d-21db-489c-a8d3-110d4cac5b81",
   "metadata": {},
   "outputs": [],
   "source": [
    "def apply(q, x):\n",
    "    return q(x)"
   ]
  },
  {
   "cell_type": "code",
   "execution_count": 11,
   "id": "5b1b4076-6433-4ed3-8077-b44e2405a226",
   "metadata": {},
   "outputs": [
    {
     "data": {
      "text/plain": [
       "21"
      ]
     },
     "execution_count": 11,
     "metadata": {},
     "output_type": "execute_result"
    }
   ],
   "source": [
    "apply(myfun, 7)"
   ]
  },
  {
   "cell_type": "code",
   "execution_count": 14,
   "id": "c9fc9782-a3d2-4583-8139-eccbf12441f5",
   "metadata": {},
   "outputs": [
    {
     "data": {
      "text/plain": [
       "28"
      ]
     },
     "execution_count": 14,
     "metadata": {},
     "output_type": "execute_result"
    }
   ],
   "source": [
    "apply(lambda z: z * 4, 7)\n"
   ]
  },
  {
   "cell_type": "code",
   "execution_count": 16,
   "id": "5563ef4f-6635-45de-83dc-81acfe807c23",
   "metadata": {},
   "outputs": [],
   "source": [
    "def myfun2(b, c=3, d=\"hello\"):\n",
    "    return b + c"
   ]
  },
  {
   "cell_type": "code",
   "execution_count": 19,
   "id": "2a343e65-a14f-41d6-9ea2-571810ab6ed1",
   "metadata": {},
   "outputs": [
    {
     "data": {
      "text/plain": [
       "8"
      ]
     },
     "execution_count": 19,
     "metadata": {},
     "output_type": "execute_result"
    }
   ],
   "source": [
    "myfun2(5,3,\"hello\")\n",
    "myfun2(5,3)\n",
    "myfun2(5)\n"
   ]
  },
  {
   "cell_type": "code",
   "execution_count": 22,
   "id": "c2b6e915-59d9-4f61-8b2f-c1267cb6cf3c",
   "metadata": {},
   "outputs": [],
   "source": [
    "def myfun3(a, b, c):\n",
    "    return a-b"
   ]
  },
  {
   "cell_type": "code",
   "execution_count": 23,
   "id": "b0402e1b-9ceb-4a9d-b7df-369a4cbc0251",
   "metadata": {},
   "outputs": [
    {
     "data": {
      "text/plain": [
       "1"
      ]
     },
     "execution_count": 23,
     "metadata": {},
     "output_type": "execute_result"
    }
   ],
   "source": [
    "myfun3(2, 1, 43)\n",
    "myfun3(c=43, b=1, a=2)\n",
    "myfun3(2, c=43, b=1)"
   ]
  },
  {
   "cell_type": "code",
   "execution_count": null,
   "id": "e5ef0b9d-80c5-4cba-941d-89ca3b4e33b2",
   "metadata": {},
   "outputs": [],
   "source": []
  }
 ],
 "metadata": {
  "kernelspec": {
   "display_name": "Python 3",
   "language": "python",
   "name": "python3"
  },
  "language_info": {
   "codemirror_mode": {
    "name": "ipython",
    "version": 3
   },
   "file_extension": ".py",
   "mimetype": "text/x-python",
   "name": "python",
   "nbconvert_exporter": "python",
   "pygments_lexer": "ipython3",
   "version": "3.8.8"
  }
 },
 "nbformat": 4,
 "nbformat_minor": 5
}
