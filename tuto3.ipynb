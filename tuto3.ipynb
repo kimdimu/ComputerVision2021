{
 "cells": [
  {
   "cell_type": "markdown",
   "id": "c0e5eb28-4a5e-4260-a67e-1fabce2ab8e0",
   "metadata": {},
   "source": [
    "# Dictionaries: a mapping collection type"
   ]
  },
  {
   "cell_type": "code",
   "execution_count": 1,
   "id": "858843a8-2730-4ed2-81f6-4106e92c56a2",
   "metadata": {},
   "outputs": [
    {
     "data": {
      "text/plain": [
       "'dimu'"
      ]
     },
     "execution_count": 1,
     "metadata": {},
     "output_type": "execute_result"
    }
   ],
   "source": [
    "d = {'user' : 'dimu', 'pswd':1234}\n",
    "d['user']"
   ]
  },
  {
   "cell_type": "code",
   "execution_count": 2,
   "id": "cdfe558c-7007-4c81-9aa6-e9db7c52eef8",
   "metadata": {},
   "outputs": [
    {
     "data": {
      "text/plain": [
       "1234"
      ]
     },
     "execution_count": 2,
     "metadata": {},
     "output_type": "execute_result"
    }
   ],
   "source": [
    "d[\"pswd\"]"
   ]
  },
  {
   "cell_type": "code",
   "execution_count": 7,
   "id": "b211a230-6288-4ec4-b7e6-69f984533c0c",
   "metadata": {},
   "outputs": [],
   "source": [
    "a = [1,2]"
   ]
  },
  {
   "cell_type": "code",
   "execution_count": 8,
   "id": "4ab342ab-8b73-4e90-b670-4acb34c6b35b",
   "metadata": {},
   "outputs": [],
   "source": [
    "b = a"
   ]
  },
  {
   "cell_type": "code",
   "execution_count": 11,
   "id": "1d1d82d6-46cd-482a-8448-24d3cc65925c",
   "metadata": {},
   "outputs": [
    {
     "data": {
      "text/plain": [
       "{'user': 'babo', 'pswd': 1234}"
      ]
     },
     "execution_count": 11,
     "metadata": {},
     "output_type": "execute_result"
    }
   ],
   "source": [
    "d['user'] = 'babo'\n",
    "d"
   ]
  },
  {
   "cell_type": "code",
   "execution_count": 15,
   "id": "6ead4aa6-4e41-41df-9552-071e09c15cc0",
   "metadata": {},
   "outputs": [
    {
     "data": {
      "text/plain": [
       "{'user': 'babo', 'pswd': 1234, 'id': 45}"
      ]
     },
     "execution_count": 15,
     "metadata": {},
     "output_type": "execute_result"
    }
   ],
   "source": [
    "d['id'] = 45\n",
    "d"
   ]
  },
  {
   "cell_type": "code",
   "execution_count": 16,
   "id": "840ca1f1-da21-4e66-b76a-41f7c9923771",
   "metadata": {},
   "outputs": [
    {
     "data": {
      "text/plain": [
       "{'user': 'babo', 'pswd': 1234}"
      ]
     },
     "execution_count": 16,
     "metadata": {},
     "output_type": "execute_result"
    }
   ],
   "source": [
    "del d['id']\n",
    "d"
   ]
  },
  {
   "cell_type": "code",
   "execution_count": 17,
   "id": "28ee01cb-924b-4fed-9046-614a27520a6a",
   "metadata": {},
   "outputs": [],
   "source": [
    "d.clear()"
   ]
  },
  {
   "cell_type": "code",
   "execution_count": 18,
   "id": "819d94fe-1af3-44c1-b7df-76f92f3efc2b",
   "metadata": {},
   "outputs": [
    {
     "data": {
      "text/plain": [
       "{}"
      ]
     },
     "execution_count": 18,
     "metadata": {},
     "output_type": "execute_result"
    }
   ],
   "source": [
    "d"
   ]
  },
  {
   "cell_type": "code",
   "execution_count": 20,
   "id": "faa815f3-0d2d-4de3-b6ac-cd3e8e351b33",
   "metadata": {},
   "outputs": [
    {
     "data": {
      "text/plain": [
       "[1]"
      ]
     },
     "execution_count": 20,
     "metadata": {},
     "output_type": "execute_result"
    }
   ],
   "source": [
    "a =[1,2]\n",
    "del a[1]\n",
    "a"
   ]
  },
  {
   "cell_type": "code",
   "execution_count": 21,
   "id": "22090920-7223-41a8-92db-b1d091c46d94",
   "metadata": {},
   "outputs": [],
   "source": [
    "d = {'user' : 'dimu', 'pswd':1234}"
   ]
  },
  {
   "cell_type": "code",
   "execution_count": 22,
   "id": "5a8ea80a-0855-4464-87cb-132d4b001cfc",
   "metadata": {},
   "outputs": [
    {
     "data": {
      "text/plain": [
       "dict_keys(['user', 'pswd'])"
      ]
     },
     "execution_count": 22,
     "metadata": {},
     "output_type": "execute_result"
    }
   ],
   "source": [
    "d.keys()"
   ]
  },
  {
   "cell_type": "code",
   "execution_count": 23,
   "id": "e89ced41-1605-49a9-ad4a-72d3a39a4901",
   "metadata": {},
   "outputs": [
    {
     "data": {
      "text/plain": [
       "dict_values(['dimu', 1234])"
      ]
     },
     "execution_count": 23,
     "metadata": {},
     "output_type": "execute_result"
    }
   ],
   "source": [
    "d.values()"
   ]
  },
  {
   "cell_type": "code",
   "execution_count": 24,
   "id": "829a07a5-8d37-4fd8-832a-908bce09d69c",
   "metadata": {},
   "outputs": [
    {
     "data": {
      "text/plain": [
       "dict_items([('user', 'dimu'), ('pswd', 1234)])"
      ]
     },
     "execution_count": 24,
     "metadata": {},
     "output_type": "execute_result"
    }
   ],
   "source": [
    "d.items()"
   ]
  },
  {
   "cell_type": "code",
   "execution_count": null,
   "id": "2e3204ff-9d98-4027-91ba-2aaa77639cd0",
   "metadata": {},
   "outputs": [],
   "source": []
  }
 ],
 "metadata": {
  "kernelspec": {
   "display_name": "Python 3",
   "language": "python",
   "name": "python3"
  },
  "language_info": {
   "codemirror_mode": {
    "name": "ipython",
    "version": 3
   },
   "file_extension": ".py",
   "mimetype": "text/x-python",
   "name": "python",
   "nbconvert_exporter": "python",
   "pygments_lexer": "ipython3",
   "version": "3.8.8"
  }
 },
 "nbformat": 4,
 "nbformat_minor": 5
}
